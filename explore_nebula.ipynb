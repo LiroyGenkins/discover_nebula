{
 "cells": [
  {
   "attachments": {},
   "cell_type": "markdown",
   "metadata": {},
   "source": [
    "#Часть 1\n",
    "\n",
    "Скачаем и установим саму графовую БД Nebula Graph при помощи контейнеров Docker. Для этого клонируем репозиторий с версией 3.3.0."
   ]
  },
  {
   "cell_type": "code",
   "execution_count": 1,
   "metadata": {},
   "outputs": [
    {
     "name": "stdout",
     "output_type": "stream",
     "text": [
      "Active code page: 65001\n"
     ]
    },
    {
     "name": "stderr",
     "output_type": "stream",
     "text": [
      "Cloning into 'nebula-docker-compose'...\n",
      "Container nebula-docker-compose-metad1-1  Recreate\n",
      "Container nebula-docker-compose-metad2-1  Recreate\n",
      "Container nebula-docker-compose-metad0-1  Recreate\n",
      "Container nebula-docker-compose-metad0-1  Recreated\n",
      "Container nebula-docker-compose-metad2-1  Recreated\n",
      "Container nebula-docker-compose-metad1-1  Recreated\n",
      "Container nebula-docker-compose-storaged1-1  Recreate\n",
      "Container nebula-docker-compose-storaged2-1  Recreate\n",
      "Container nebula-docker-compose-storaged0-1  Recreate\n",
      "Container nebula-docker-compose-storaged2-1  Recreated\n",
      "Container nebula-docker-compose-storaged0-1  Recreated\n",
      "Container nebula-docker-compose-storaged1-1  Recreated\n",
      "Container nebula-docker-compose-graphd-1  Recreate\n",
      "Container nebula-docker-compose-graphd2-1  Recreate\n",
      "Container nebula-docker-compose-graphd1-1  Recreate\n",
      "Container nebula-docker-compose-graphd-1  Recreated\n",
      "Container nebula-docker-compose-console-1  Recreate\n",
      "Container nebula-docker-compose-graphd1-1  Recreated\n",
      "Container nebula-docker-compose-graphd2-1  Recreated\n",
      "Container nebula-docker-compose-console-1  Recreated\n",
      "Container nebula-docker-compose-metad1-1  Starting\n",
      "Container nebula-docker-compose-metad0-1  Starting\n",
      "Container nebula-docker-compose-metad2-1  Starting\n",
      "Container nebula-docker-compose-metad1-1  Started\n",
      "Container nebula-docker-compose-metad2-1  Started\n",
      "Container nebula-docker-compose-metad0-1  Started\n",
      "Container nebula-docker-compose-storaged0-1  Starting\n",
      "Container nebula-docker-compose-storaged2-1  Starting\n",
      "Container nebula-docker-compose-storaged1-1  Starting\n",
      "Container nebula-docker-compose-storaged2-1  Started\n",
      "Container nebula-docker-compose-storaged0-1  Started\n",
      "Container nebula-docker-compose-storaged1-1  Started\n",
      "Container nebula-docker-compose-graphd2-1  Starting\n",
      "Container nebula-docker-compose-graphd1-1  Starting\n",
      "Container nebula-docker-compose-graphd-1  Starting\n",
      "Container nebula-docker-compose-graphd-1  Started\n",
      "Container nebula-docker-compose-console-1  Starting\n",
      "Container nebula-docker-compose-graphd2-1  Started\n",
      "Container nebula-docker-compose-graphd1-1  Started\n",
      "Container nebula-docker-compose-console-1  Started\n"
     ]
    }
   ],
   "source": [
    "!chcp 65001\n",
    "!git clone -b release-3.3 https://github.com/vesoft-inc/nebula-docker-compose.git\n",
    "!docker-compose --project-directory nebula-docker-compose up -d"
   ]
  },
  {
   "attachments": {},
   "cell_type": "markdown",
   "metadata": {},
   "source": [
    "Проверим, что контейнеры запущены."
   ]
  },
  {
   "cell_type": "code",
   "execution_count": 2,
   "metadata": {},
   "outputs": [
    {
     "name": "stdout",
     "output_type": "stream",
     "text": [
      "CONTAINER ID   IMAGE                               COMMAND                  CREATED          STATUS                            PORTS                                                                                                  NAMES\n",
      "145648f2389c   vesoft/nebula-console:nightly       \"sh -c 'for i in `se…\"   9 seconds ago    Up Less than a second                                                                                                                    nebula-docker-compose-console-1\n",
      "741f945ab6c8   vesoft/nebula-graphd:v3.3.0         \"/usr/local/nebula/b…\"   18 seconds ago   Up 2 seconds (health: starting)   0.0.0.0:49493->9669/tcp, 0.0.0.0:49491->19669/tcp, 0.0.0.0:49492->19670/tcp                            nebula-docker-compose-graphd2-1\n",
      "1e16971c1c96   vesoft/nebula-graphd:v3.3.0         \"/usr/local/nebula/b…\"   19 seconds ago   Up 2 seconds (health: starting)   0.0.0.0:49496->9669/tcp, 0.0.0.0:49494->19669/tcp, 0.0.0.0:49495->19670/tcp                            nebula-docker-compose-graphd1-1\n",
      "18145d9665a0   vesoft/nebula-graphd:v3.3.0         \"/usr/local/nebula/b…\"   19 seconds ago   Up 2 seconds (health: starting)   0.0.0.0:9669->9669/tcp, 0.0.0.0:49489->19669/tcp, 0.0.0.0:49490->19670/tcp                             nebula-docker-compose-graphd-1\n",
      "7a6426447911   vesoft/nebula-storaged:v3.3.0       \"/usr/local/nebula/b…\"   20 seconds ago   Up 4 seconds (health: starting)   9777-9778/tcp, 9780/tcp, 0.0.0.0:49488->9779/tcp, 0.0.0.0:49486->19779/tcp, 0.0.0.0:49487->19780/tcp   nebula-docker-compose-storaged1-1\n",
      "14c5843d965a   vesoft/nebula-storaged:v3.3.0       \"/usr/local/nebula/b…\"   29 seconds ago   Up 4 seconds (health: starting)   9777-9778/tcp, 9780/tcp, 0.0.0.0:49485->9779/tcp, 0.0.0.0:49483->19779/tcp, 0.0.0.0:49484->19780/tcp   nebula-docker-compose-storaged0-1\n",
      "2120de13702a   vesoft/nebula-storaged:v3.3.0       \"/usr/local/nebula/b…\"   29 seconds ago   Up 4 seconds (health: starting)   9777-9778/tcp, 9780/tcp, 0.0.0.0:49482->9779/tcp, 0.0.0.0:49480->19779/tcp, 0.0.0.0:49481->19780/tcp   nebula-docker-compose-storaged2-1\n",
      "e3081d087600   vesoft/nebula-metad:v3.3.0          \"/usr/local/nebula/b…\"   32 seconds ago   Up 6 seconds (health: starting)   9560/tcp, 0.0.0.0:49477->9559/tcp, 0.0.0.0:49478->19559/tcp, 0.0.0.0:49479->19560/tcp                  nebula-docker-compose-metad0-1\n",
      "1bdd602eccd8   vesoft/nebula-metad:v3.3.0          \"/usr/local/nebula/b…\"   32 seconds ago   Up 6 seconds (health: starting)   9560/tcp, 0.0.0.0:49473->9559/tcp, 0.0.0.0:49471->19559/tcp, 0.0.0.0:49472->19560/tcp                  nebula-docker-compose-metad1-1\n",
      "a00a39ef3387   vesoft/nebula-metad:v3.3.0          \"/usr/local/nebula/b…\"   32 seconds ago   Up 6 seconds (health: starting)   9560/tcp, 0.0.0.0:49476->9559/tcp, 0.0.0.0:49474->19559/tcp, 0.0.0.0:49475->19560/tcp                  nebula-docker-compose-metad2-1\n",
      "390cf0aeb478   vesoft/nebula-graph-studio:v3.6.2   \"./server\"               12 hours ago     Up 12 hours                       0.0.0.0:7001->7001/tcp                                                                                 docker-web-1\n"
     ]
    }
   ],
   "source": [
    "!docker ps"
   ]
  },
  {
   "attachments": {},
   "cell_type": "markdown",
   "metadata": {},
   "source": [
    "Теперь скачаем и таким же образом из контейнера поднимем Nebula Graph Studio на 7001 порту. Это понадобится для простой и поятной визуализации результатов."
   ]
  },
  {
   "cell_type": "code",
   "execution_count": 3,
   "metadata": {},
   "outputs": [
    {
     "name": "stderr",
     "output_type": "stream",
     "text": [
      "Cloning into 'nebula-graph-studio'...\n",
      "Container docker-web-1  Running\n"
     ]
    }
   ],
   "source": [
    "!git clone -b release-3.6 https://github.com/vesoft-inc/nebula-graph-studio\n",
    "!docker-compose --project-directory nebula-graph-studio/deployment/docker up -d"
   ]
  },
  {
   "attachments": {},
   "cell_type": "markdown",
   "metadata": {},
   "source": [
    "Проверим статус."
   ]
  },
  {
   "cell_type": "code",
   "execution_count": 4,
   "metadata": {},
   "outputs": [
    {
     "name": "stdout",
     "output_type": "stream",
     "text": [
      "NAME                COMMAND             SERVICE             STATUS              PORTS\n",
      "docker-web-1        \"./server\"          web                 running             0.0.0.0:7001->7001/tcp\n"
     ]
    }
   ],
   "source": [
    "!docker-compose --project-directory nebula-graph-studio/deployment/docker ps"
   ]
  },
  {
   "attachments": {},
   "cell_type": "markdown",
   "metadata": {},
   "source": [
    "Всё поднялось и работает.\n",
    "\n",
    "Далее подключим некоторые необходимые библиотеки и получим датасет. Для этого скачаем его и сразу запишем в DataFrame. Выведем его размер."
   ]
  },
  {
   "cell_type": "code",
   "execution_count": null,
   "metadata": {},
   "outputs": [],
   "source": [
    "%pip install pandas requests prettytable"
   ]
  },
  {
   "cell_type": "code",
   "execution_count": 4,
   "metadata": {},
   "outputs": [
    {
     "data": {
      "text/plain": [
       "(5000, 3)"
      ]
     },
     "execution_count": 4,
     "metadata": {},
     "output_type": "execute_result"
    }
   ],
   "source": [
    "import pandas as pd\n",
    "import requests\n",
    "import urllib\n",
    "import json\n",
    "\n",
    "\n",
    "folder_url = 'https://disk.yandex.ru/d/s6wWqd8Ol_5IvQ'\n",
    "file_url = 'data_test.csv'\n",
    "url = 'https://cloud-api.yandex.net/v1/disk/public/resources/download' + '?public_key=' + urllib.parse.quote(folder_url) + '&path=/' + urllib.parse.quote(file_url)\n",
    "\n",
    "r = requests.get(url) # запрос ссылки на скачивание\n",
    "h = json.loads(r.text)['href'] # 'парсинг' ссылки на скачивание\n",
    "\n",
    "df = pd.read_csv(h, sep=';')\n",
    "df.shape\n"
   ]
  },
  {
   "attachments": {},
   "cell_type": "markdown",
   "metadata": {},
   "source": [
    "#Часть 2\n",
    "\n",
    "Начинаем работу с самой БД. Для этого подключимся к ней и создадим пространство для данных(Space). Сразу выберем его для использования и создадим схему даных, она будет состоять из одного тега для участника события с его именем внутри(person) и одного ребра для самого события с его идентификатором(event)."
   ]
  },
  {
   "cell_type": "code",
   "execution_count": 7,
   "metadata": {},
   "outputs": [
    {
     "data": {
      "text/plain": [
       "'Пространство успешно создано'"
      ]
     },
     "execution_count": 7,
     "metadata": {},
     "output_type": "execute_result"
    }
   ],
   "source": [
    "from nebula3.gclient.net import ConnectionPool\n",
    "from nebula3.Config import Config\n",
    "\n",
    "# define a config\n",
    "config = Config()\n",
    "config.max_connection_pool_size = 10\n",
    "# init connection pool\n",
    "connection_pool = ConnectionPool()\n",
    "# if the given servers are ok, return true, else return false\n",
    "ok = connection_pool.init([('127.0.0.1', 9669)], config)\n",
    "\n",
    "# option 1 control the connection release yourself\n",
    "# get session from the pool\n",
    "session = connection_pool.get_session('root', 'nebula')\n",
    "\n",
    "# create and select space\n",
    "db_creation = session.execute(\n",
    "            'CREATE SPACE IF NOT EXISTS test(vid_type=FIXED_STRING(300)); USE test;'\n",
    "            'CREATE TAG IF NOT EXISTS person(name string);'\n",
    "            'CREATE EDGE event(event_id int);'\n",
    "        )\n",
    "\n",
    "'Пространство успешно создано' if db_creation.is_succeeded() else 'Возникла ошибка ' + db_creation.error_msg()\n"
   ]
  },
  {
   "attachments": {},
   "cell_type": "markdown",
   "metadata": {},
   "source": [
    "Создадим индексы."
   ]
  },
  {
   "cell_type": "code",
   "execution_count": 8,
   "metadata": {},
   "outputs": [
    {
     "data": {
      "text/plain": [
       "'Индексы успешно созданы'"
      ]
     },
     "execution_count": 8,
     "metadata": {},
     "output_type": "execute_result"
    }
   ],
   "source": [
    "idx = session.execute('CREATE TAG INDEX IF NOT EXISTS person_index on person();'\n",
    "                'CREATE EDGE INDEX IF NOT EXISTS edge_index on event();')\n",
    "\n",
    "'Индексы успешно созданы' if idx.is_succeeded() else 'Возникла ошибка' + idx.error_msg()"
   ]
  },
  {
   "cell_type": "code",
   "execution_count": 9,
   "metadata": {},
   "outputs": [],
   "source": [
    "from typing import Dict\n",
    "\n",
    "import pandas as pd\n",
    "import prettytable\n",
    "from nebula3.data.DataObject import Value, ValueWrapper\n",
    "from nebula3.data.ResultSet import ResultSet\n",
    "\n",
    "\n",
    "def result_to_df(result: ResultSet) -> pd.DataFrame:\n",
    "    \"\"\"\n",
    "    build list for each column, and transform to dataframe\n",
    "    \"\"\"\n",
    "    assert result.is_succeeded(), result.error_msg()\n",
    "    columns = result.keys()\n",
    "    d: Dict[str, list] = {}\n",
    "    for col_num in range(result.col_size()):\n",
    "        col_name = columns[col_num]\n",
    "        col_list = result.column_values(col_name)\n",
    "        d[col_name] = [x.cast() for x in col_list]\n",
    "    return pd.DataFrame.from_dict(d, orient='columns')\n",
    "\n",
    "cast_as = {\n",
    "    Value.NVAL: \"as_null\",\n",
    "    Value.__EMPTY__: \"as_empty\",\n",
    "    Value.BVAL: \"as_bool\",\n",
    "    Value.IVAL: \"as_int\",\n",
    "    Value.FVAL: \"as_double\",\n",
    "    Value.SVAL: \"as_string\",\n",
    "    Value.LVAL: \"as_list\",\n",
    "    Value.UVAL: \"as_set\",\n",
    "    Value.MVAL: \"as_map\",\n",
    "    Value.TVAL: \"as_time\",\n",
    "    Value.DVAL: \"as_date\",\n",
    "    Value.DTVAL: \"as_datetime\",\n",
    "    Value.VVAL: \"as_node\",\n",
    "    Value.EVAL: \"as_relationship\",\n",
    "    Value.PVAL: \"as_path\",\n",
    "    Value.GGVAL: \"as_geography\",\n",
    "    Value.DUVAL: \"as_duration\",\n",
    "}\n",
    "\n",
    "def customized_cast_with_dict(val: ValueWrapper):\n",
    "    _type = val._value.getType()\n",
    "    method = cast_as.get(_type)\n",
    "    if method is not None:\n",
    "        return getattr(val, method, lambda *args, **kwargs: None)()\n",
    "    raise KeyError(\"No such key: {}\".format(_type))\n",
    "\n",
    "def print_resp(resp: ResultSet):\n",
    "    assert resp.is_succeeded(), resp.error_msg()\n",
    "    output_table = prettytable.PrettyTable()\n",
    "    output_table.field_names = resp.keys()\n",
    "    for recode in resp:\n",
    "        value_list = []\n",
    "        for col in recode:\n",
    "            val = customized_cast_with_dict(col)\n",
    "            value_list.append(val)\n",
    "        output_table.add_row(value_list)\n",
    "    print(output_table)"
   ]
  },
  {
   "attachments": {},
   "cell_type": "markdown",
   "metadata": {},
   "source": [
    "Занесём данные об участниках и событиях в базу."
   ]
  },
  {
   "cell_type": "code",
   "execution_count": 10,
   "metadata": {},
   "outputs": [],
   "source": [
    "for i in list(df.index):\n",
    "    event_id = int(df.iloc[i,0])\n",
    "    person1 = df.iloc[i,1]\n",
    "    person2 = df.iloc[i,2]\n",
    "    queries = f'INSERT VERTEX IF NOT EXISTS person(name) VALUES \"{person1}\":(\"{person1}\"), \"{person2}\":(\"{person2}\");' + \\\n",
    "                f'INSERT EDGE IF NOT EXISTS event(event_id) VALUES \"{person1}\"->\"{person2}\":({event_id});'\n",
    "\n",
    "    res = session.execute(queries)\n",
    "    assert res.is_succeeded(), res.error_msg()"
   ]
  },
  {
   "attachments": {},
   "cell_type": "markdown",
   "metadata": {},
   "source": [
    "Настроим красивый вывод результатов запросов."
   ]
  },
  {
   "attachments": {},
   "cell_type": "markdown",
   "metadata": {},
   "source": [
    "Выполним несколько запросов.\n",
    "Сначала выведем первых 50 учасников и посчитаем их общее количество."
   ]
  },
  {
   "cell_type": "code",
   "execution_count": 11,
   "metadata": {},
   "outputs": [
    {
     "name": "stdout",
     "output_type": "stream",
     "text": [
      "+----------------------------------------------------------------------------------------+\n",
      "|                                         person                                         |\n",
      "+----------------------------------------------------------------------------------------+\n",
      "|            (\"Абахова Кира Егоровна\" :person{name: \"Абахова Кира Егоровна\"})            |\n",
      "|         (\"Агеносов Леонид Егорович\" :person{name: \"Агеносов Леонид Егорович\"})         |\n",
      "|      (\"Алатырцева Дарья Эдуардовна\" :person{name: \"Алатырцева Дарья Эдуардовна\"})      |\n",
      "|           (\"Андер Мария Николаевна\" :person{name: \"Андер Мария Николаевна\"})           |\n",
      "|           (\"Андрусива Яна Олеговна\" :person{name: \"Андрусива Яна Олеговна\"})           |\n",
      "|      (\"Антоненков Роберт Федорович\" :person{name: \"Антоненков Роберт Федорович\"})      |\n",
      "|         (\"Аптраков Кирилл Глебович\" :person{name: \"Аптраков Кирилл Глебович\"})         |\n",
      "|           (\"Атаева Мария Вадимовна\" :person{name: \"Атаева Мария Вадимовна\"})           |\n",
      "|       (\"Атамкулова Мария Андреевна\" :person{name: \"Атамкулова Мария Андреевна\"})       |\n",
      "|       (\"Баачилов Леонид Витальевич\" :person{name: \"Баачилов Леонид Витальевич\"})       |\n",
      "|   (\"Багатюк Вячеслав Александрович\" :person{name: \"Багатюк Вячеслав Александрович\"})   |\n",
      "|     (\"Бандровский Леонид Вадимович\" :person{name: \"Бандровский Леонид Вадимович\"})     |\n",
      "|              (\"Бахар Олег Егорович\" :person{name: \"Бахар Олег Егорович\"})              |\n",
      "|      (\"Бахталов Марат Владимирович\" :person{name: \"Бахталов Марат Владимирович\"})      |\n",
      "|           (\"Бикмулин Марсель Ильич\" :person{name: \"Бикмулин Марсель Ильич\"})           |\n",
      "|       (\"Боченков Игорь Анатольевич\" :person{name: \"Боченков Игорь Анатольевич\"})       |\n",
      "|            (\"Брату Вадим Маратович\" :person{name: \"Брату Вадим Маратович\"})            |\n",
      "|          (\"Брендоев Илья Вадимович\" :person{name: \"Брендоев Илья Вадимович\"})          |\n",
      "|        (\"Буций Вячеслав Валерьевич\" :person{name: \"Буций Вячеслав Валерьевич\"})        |\n",
      "|     (\"Валухина Вероника Степановна\" :person{name: \"Валухина Вероника Степановна\"})     |\n",
      "|       (\"Васючков Тимофей Андреевич\" :person{name: \"Васючков Тимофей Андреевич\"})       |\n",
      "|       (\"Вахлов Анатолий Николаевич\" :person{name: \"Вахлов Анатолий Николаевич\"})       |\n",
      "|        (\"Вахонин Сергей Алексеевич\" :person{name: \"Вахонин Сергей Алексеевич\"})        |\n",
      "|   (\"Веденкина Екатерина Николаевна\" :person{name: \"Веденкина Екатерина Николаевна\"})   |\n",
      "|       (\"Викторевич Анна Степановна\" :person{name: \"Викторевич Анна Степановна\"})       |\n",
      "|         (\"Викулова Элина Сергеевна\" :person{name: \"Викулова Элина Сергеевна\"})         |\n",
      "|   (\"Влазнев Владимир Станиславович\" :person{name: \"Влазнев Владимир Станиславович\"})   |\n",
      "|        (\"Войтехов Роман Робертович\" :person{name: \"Войтехов Роман Робертович\"})        |\n",
      "|     (\"Воронихин Евгений Николаевич\" :person{name: \"Воронихин Евгений Николаевич\"})     |\n",
      "| (\"Габайдуллина Вероника Георгиевна\" :person{name: \"Габайдуллина Вероника Георгиевна\"}) |\n",
      "|   (\"Глейзарова Виктория Аркадьевна\" :person{name: \"Глейзарова Виктория Аркадьевна\"})   |\n",
      "|  (\"Гнилозубова Гульнара Валерьевна\" :person{name: \"Гнилозубова Гульнара Валерьевна\"})  |\n",
      "| (\"Головинская Валентина Ильдаровна\" :person{name: \"Головинская Валентина Ильдаровна\"}) |\n",
      "|      (\"Горышин Вячеслав Дмитриевич\" :person{name: \"Горышин Вячеслав Дмитриевич\"})      |\n",
      "|         (\"Грознов Ильдар Федорович\" :person{name: \"Грознов Ильдар Федорович\"})         |\n",
      "|         (\"Даллакян Андрей Егорович\" :person{name: \"Даллакян Андрей Егорович\"})         |\n",
      "|         (\"Дедюхина Татьяна Юрьевна\" :person{name: \"Дедюхина Татьяна Юрьевна\"})         |\n",
      "|        (\"Делюсина Ирина Георгиевна\" :person{name: \"Делюсина Ирина Георгиевна\"})        |\n",
      "|         (\"Джаппуев Ринат Артемович\" :person{name: \"Джаппуев Ринат Артемович\"})         |\n",
      "|           (\"Добрынина Яна Глебовна\" :person{name: \"Добрынина Яна Глебовна\"})           |\n",
      "|        (\"Дубянская Алла Михаиловна\" :person{name: \"Дубянская Алла Михаиловна\"})        |\n",
      "|        (\"Дуленкова Раиса Артемовна\" :person{name: \"Дуленкова Раиса Артемовна\"})        |\n",
      "|       (\"Евдошин Дмитрий Алексеевич\" :person{name: \"Евдошин Дмитрий Алексеевич\"})       |\n",
      "|       (\"Жаравлева Алиса Ильдаровна\" :person{name: \"Жаравлева Алиса Ильдаровна\"})       |\n",
      "|    (\"Жевакин Михаил Константинович\" :person{name: \"Жевакин Михаил Константинович\"})    |\n",
      "|          (\"Жупанов Илья Филиппович\" :person{name: \"Жупанов Илья Филиппович\"})          |\n",
      "|    (\"Журавель Марина Станиславовна\" :person{name: \"Журавель Марина Станиславовна\"})    |\n",
      "|     (\"Завадникова Алена Николаевна\" :person{name: \"Завадникова Алена Николаевна\"})     |\n",
      "|            (\"Зеленов Егор Иванович\" :person{name: \"Зеленов Егор Иванович\"})            |\n",
      "|      (\"Зозулина Гульнара Рамилевна\" :person{name: \"Зозулина Гульнара Рамилевна\"})      |\n",
      "+----------------------------------------------------------------------------------------+\n",
      "Учасников 9899\n"
     ]
    }
   ],
   "source": [
    "print_resp(session.execute('MATCH (p:person) RETURN p AS person LIMIT 50'))\n",
    "print(\"Учасников\", session.execute('MATCH (p:person) RETURN count(p)').row_values(0)[0])"
   ]
  },
  {
   "attachments": {},
   "cell_type": "markdown",
   "metadata": {},
   "source": [
    "Получилось меньше, чем записей в датасете, значит некоторые имена повторяются.\n",
    "\n",
    "Выведем первые 50 связей, количество уникальных из всех и проверим на наличие петель."
   ]
  },
  {
   "cell_type": "code",
   "execution_count": 12,
   "metadata": {},
   "outputs": [
    {
     "name": "stdout",
     "output_type": "stream",
     "text": [
      "+---------------------------------------------------------------------------------------------------------+\n",
      "|                                                  event                                                  |\n",
      "+---------------------------------------------------------------------------------------------------------+\n",
      "|        (\"Арсений Никита Артурович\")-[:event@0{event_id: 747373}]->(\"Величкина Карина Степановна\")       |\n",
      "|         (\"Кравец Владимир Кириллович\")-[:event@0{event_id: 67252}]->(\"Явдохина Алла Германовна\")        |\n",
      "|          (\"Урюпин Эдуард Маратович\")-[:event@0{event_id: 106645}]->(\"Мечиева Марина Андреевна\")         |\n",
      "|          (\"Сулоев Роман Михаилович\")-[:event@0{event_id: 732266}]->(\"Карманова Кира Петровна\")          |\n",
      "|      (\"Пенюшин Николай Валентинович\")-[:event@0{event_id: 658710}]->(\"Ряполовская Лилия Павловна\")      |\n",
      "|         (\"Пакшина Римма Владимировна\")-[:event@0{event_id: 799057}]->(\"Рявкина Лидия Ефимовна\")         |\n",
      "|       (\"Башнина Антонина Глебовна\")-[:event@0{event_id: 484562}]->(\"Акрамова Людмила Альбертовна\")      |\n",
      "|       (\"Стасюк Виктория Филипповна\")-[:event@0{event_id: 658075}]->(\"Юхотникова Мария Артемовна\")       |\n",
      "|       (\"Гаврилко Семен Станиславович\")-[:event@0{event_id: 146248}]->(\"Бабинец Евгений Артемович\")      |\n",
      "|       (\"Ахромеева Алина Ивановна\")-[:event@0{event_id: 825214}]->(\"Сарсадских Алена Геннадьевна\")       |\n",
      "|        (\"Пауткина Анна Антоновна\")-[:event@0{event_id: 727790}]->(\"Владычнева Ксения Германовна\")       |\n",
      "|      (\"Халимова Татьяна Геннадьевна\")-[:event@0{event_id: 338209}]->(\"Харисова Ксения Дмитриевна\")      |\n",
      "|      (\"Саврасова Ирина Степановна\")-[:event@0{event_id: 714633}]->(\"Подгорков Валентин Вадимович\")      |\n",
      "|     (\"Троепольский Игорь Георгиевич\")-[:event@0{event_id: 267496}]->(\"Дайнеко Валентина Аркадьевна\")    |\n",
      "|         (\"Луговская Раиса Семеновна\")-[:event@0{event_id: 890195}]->(\"Лапаев Павел Марселевич\")         |\n",
      "|         (\"Игошев Ильдар Ринатович\")-[:event@0{event_id: 982622}]->(\"Евлахина Дарья Степановна\")         |\n",
      "|     (\"Абдурашитов Василий Вадимович\")-[:event@0{event_id: 454271}]->(\"Озерина Вероника Тимофеевна\")     |\n",
      "|       (\"Иванчук Валентина Анатольевна\")-[:event@0{event_id: 604429}]->(\"Степина Ольга Георгиевна\")      |\n",
      "|      (\"Верменичева Людмила Эдуардовна\")-[:event@0{event_id: 948490}]->(\"Адамчук Полина Романовна\")      |\n",
      "|        (\"Двигубский Егор Янович\")-[:event@0{event_id: 705764}]->(\"Ржешотарский Ринат Ринатович\")        |\n",
      "|       (\"Тиронова Виктория Даниловна\")-[:event@0{event_id: 564317}]->(\"Савицкая Ксения Никитовна\")       |\n",
      "|          (\"Набокин Олег Егорович\")-[:event@0{event_id: 609183}]->(\"Демиров Олег Александрович\")         |\n",
      "|      (\"Беляевский Денис Альбертович\")-[:event@0{event_id: 671606}]->(\"Атнагулова Анна Эдуардовна\")      |\n",
      "|        (\"Пожарова Инна Филипповна\")-[:event@0{event_id: 876147}]->(\"Подвигин Ярослав Антонович\")        |\n",
      "|       (\"Авалов Данил Данилович\")-[:event@0{event_id: 520581}]->(\"Разоренов Леонид Владиславович\")       |\n",
      "| (\"Часовщикова Ангелина Александровна\")-[:event@0{event_id: 467867}]->(\"Пузаткина Людмила Вячеславовна\") |\n",
      "|       (\"Орина Галина Владиславовна\")-[:event@0{event_id: 821661}]->(\"Литичевский Евгений Юрьевич\")      |\n",
      "|      (\"Диомидов Игорь Ильдарович\")-[:event@0{event_id: 906600}]->(\"Тиктинская Галина Григорьевна\")      |\n",
      "|         (\"Головнин Артем Леонидович\")-[:event@0{event_id: 949821}]->(\"Зыскина Анна Степановна\")         |\n",
      "|           (\"Дамитова Карина Глебовна\")-[:event@0{event_id: 175579}]->(\"Голосов Иван Яковлев\")           |\n",
      "|    (\"Рубинский Александр Дмитриевич\")-[:event@0{event_id: 222730}]->(\"Хаперскова Эльвира Филипповна\")   |\n",
      "|           (\"Бояров Леонид Янович\")-[:event@0{event_id: 887402}]->(\"Шкаликов Радик Романович\")           |\n",
      "|          (\"Шатин Данил Германович\")-[:event@0{event_id: 787652}]->(\"Катюков Роберт Дмитриевич\")         |\n",
      "|     (\"Прокопьева Эльмира Денисовна\")-[:event@0{event_id: 749722}]->(\"Разоренов Геннадий Русланович\")    |\n",
      "|        (\"Боташев Егор Александрович\")-[:event@0{event_id: 823640}]->(\"Миттов Филипп Ярославович\")       |\n",
      "|     (\"Едомская Анастасия Робертовна\")-[:event@0{event_id: 157416}]->(\"Станчинский Илья Альбертович\")    |\n",
      "|        (\"Матюшенко Илья Игоревич\")-[:event@0{event_id: 16931}]->(\"Подгорский Ярослав Романович\")        |\n",
      "|       (\"Корниенкова Ксения Витальевна\")-[:event@0{event_id: 269889}]->(\"Галко Валерия Романовна\")       |\n",
      "|       (\"Млодзиевский Марат Андреевич\")-[:event@0{event_id: 443794}]->(\"Антошин Виталий Радикович\")      |\n",
      "|            (\"Сирко Римма Рамилевна\")-[:event@0{event_id: 300678}]->(\"Негин Семен Робертович\")           |\n",
      "|      (\"Нездольцев Дамир Русланович\")-[:event@0{event_id: 44052}]->(\"Ганюшкина Антонина Андреевна\")      |\n",
      "|        (\"Яцкой Роберт Ильдарович\")-[:event@0{event_id: 684804}]->(\"Недовесков Владимир Иванович\")       |\n",
      "|            (\"Аглеева Диана Артемовна\")-[:event@0{event_id: 136034}]->(\"Шадаев Борис Янович\")            |\n",
      "|         (\"Нугаев Герман Витальевич\")-[:event@0{event_id: 92404}]->(\"Лядова Жанна Станиславовна\")        |\n",
      "|        (\"Лужанская Валентина Юрьевна\")-[:event@0{event_id: 57815}]->(\"Петухова Ольга Филипповна\")       |\n",
      "|       (\"Чилюшкина Алина Георгиевна\")-[:event@0{event_id: 547199}]->(\"Дулов Андрей Александрович\")       |\n",
      "|     (\"Рославлева Маргарита Аркадьевна\")-[:event@0{event_id: 575225}]->(\"Гуцунаев Анатолий Игоревич\")    |\n",
      "|     (\"Левашкевич Оксана Михаиловна\")-[:event@0{event_id: 724956}]->(\"Арлазорова Валерия Вадимовна\")     |\n",
      "|     (\"Задонский Вадим Маратович\")-[:event@0{event_id: 346223}]->(\"Калабашкин Марсель Александрович\")    |\n",
      "|      (\"Гранькин Николай Степанович\")-[:event@0{event_id: 803685}]->(\"Супранович Полина Рамилевна\")      |\n",
      "+---------------------------------------------------------------------------------------------------------+\n",
      "Уникальных событий 4985\n"
     ]
    }
   ],
   "source": [
    "print_resp(session.execute('MATCH ()-[e:event]->() RETURN e AS event LIMIT 50;'))\n",
    "print(\"Уникальных событий\", session.execute('MATCH ()-[e:event]-() RETURN count(distinct e.event_id)').row_values(0)[0])"
   ]
  },
  {
   "cell_type": "code",
   "execution_count": 13,
   "metadata": {},
   "outputs": [
    {
     "data": {
      "text/plain": [
       "ResultSet(keys: ['e'], values: )"
      ]
     },
     "execution_count": 13,
     "metadata": {},
     "output_type": "execute_result"
    }
   ],
   "source": [
    "session.execute('MATCH ()-[e:event]-() WHERE dst(e) == src(e) RETURN e')"
   ]
  },
  {
   "attachments": {},
   "cell_type": "markdown",
   "metadata": {},
   "source": [
    "Петель нет, но некоторые события повторяются, выведем их."
   ]
  },
  {
   "cell_type": "code",
   "execution_count": 14,
   "metadata": {},
   "outputs": [
    {
     "name": "stdout",
     "output_type": "stream",
     "text": [
      "+--------------------------------------------------------------------------------------------------+--------+\n",
      "|                                              event                                               |   id   |\n",
      "+--------------------------------------------------------------------------------------------------+--------+\n",
      "|   (\"Яшина Полина Евгеньевна\")-[:event@0{event_id: 70049}]->(\"Герасимовская Ксения Дамировна\")    | 70049  |\n",
      "|   (\"Федова Анжелика Вадимовна\")-[:event@0{event_id: 70049}]->(\"Вальдовский Альберт Ефимович\")    | 70049  |\n",
      "|    (\"Кучеренко Ирина Ильинична\")-[:event@0{event_id: 92995}]->(\"Болтик Григорий Максимович\")     | 92995  |\n",
      "|     (\"Журик Альберт Евгеньевич\")-[:event@0{event_id: 92995}]->(\"Бадьянова Римма Максимовна\")     | 92995  |\n",
      "|    (\"Волынский Кирилл Федорович\")-[:event@0{event_id: 117280}]->(\"Гайсумов Виктор Тимурович\")    | 117280 |\n",
      "|    (\"Уточкин Евгений Анатольевич\")-[:event@0{event_id: 117280}]->(\"Каганович Лилия Петровна\")    | 117280 |\n",
      "|   (\"Бужанинов Руслан Артурович\")-[:event@0{event_id: 177407}]->(\"Сороковой Герман Маратович\")    | 177407 |\n",
      "|   (\"Зелинский Геннадий Артурович\")-[:event@0{event_id: 177407}]->(\"Зазорин Вадим Аркадьевич\")    | 177407 |\n",
      "|     (\"Ноева Галина Степановна\")-[:event@0{event_id: 358194}]->(\"Серпухова Алла Ярославовна\")     | 358194 |\n",
      "|     (\"Долгих Лилия Вадимовна\")-[:event@0{event_id: 358194}]->(\"Брусенцова Дарья Михаиловна\")     | 358194 |\n",
      "|     (\"Григорьевых Павел Леонидович\")-[:event@0{event_id: 390312}]->(\"Хилин Федор Федорович\")     | 390312 |\n",
      "| (\"Намазова Евгения Дмитриевна\")-[:event@0{event_id: 390312}]->(\"Охоцимская Виктория Евгеньевна\") | 390312 |\n",
      "|       (\"Бацких Егор Олегович\")-[:event@0{event_id: 523688}]->(\"Барилов Роман Филиппович\")        | 523688 |\n",
      "| (\"Ботяновская Антонина Даниловна\")-[:event@0{event_id: 523688}]->(\"Памфилова Тамара Даниловна\")  | 523688 |\n",
      "|   (\"Захарьева Ирина Денисовна\")-[:event@0{event_id: 551592}]->(\"Солонченко Карина Васильевна\")   | 551592 |\n",
      "|    (\"Выборнов Дмитрий Дмитриевич\")-[:event@0{event_id: 551592}]->(\"Нугуманов Ефим Андреевич\")    | 551592 |\n",
      "|   (\"Сахнова Тамара Васильевна\")-[:event@0{event_id: 613539}]->(\"Кишенин Станислав Георгиевич\")   | 613539 |\n",
      "|   (\"Гавриленко Глеб Марселевич\")-[:event@0{event_id: 613539}]->(\"Ганенко Эльмира Степановна\")    | 613539 |\n",
      "|    (\"Адельханова Елена Петровна\")-[:event@0{event_id: 716489}]->(\"Арсенчук Руслан Денисович\")    | 716489 |\n",
      "|   (\"Пантелюхина Лариса Вячеславовна\")-[:event@0{event_id: 716489}]->(\"Штин Максим Русланович\")   | 716489 |\n",
      "|   (\"Бабосов Михаил Константинович\")-[:event@0{event_id: 765223}]->(\"Гулева Марина Витальевна\")   | 765223 |\n",
      "|   (\"Савлук Марсель Владимирович\")-[:event@0{event_id: 765223}]->(\"Атамкулова Мария Андреевна\")   | 765223 |\n",
      "|    (\"Ахромеева Алина Ивановна\")-[:event@0{event_id: 850472}]->(\"Ларищев Илья Александрович\")     | 850472 |\n",
      "|       (\"Стрик Элина Марселевна\")-[:event@0{event_id: 850472}]->(\"Борчин Павел Робертович\")       | 850472 |\n",
      "|  (\"Джанибеков Никита Юрьевич\")-[:event@0{event_id: 873359}]->(\"Старовойтов Вячеслав Павлович\")   | 873359 |\n",
      "|    (\"Якимихина Наталья Яновна\")-[:event@0{event_id: 873359}]->(\"Улиссов Марсель Эдуардович\")     | 873359 |\n",
      "|     (\"Самолов Михаил Алексеевич\")-[:event@0{event_id: 938764}]->(\"Двигубская Яна Ивановна\")      | 938764 |\n",
      "|   (\"Солтаганов Федор Ефимович\")-[:event@0{event_id: 938764}]->(\"Хрисогонов Иван Геннадьевич\")    | 938764 |\n",
      "|     (\"Павлюкова Наталья Федоровна\")-[:event@0{event_id: 985851}]->(\"Клебан Игорь Глебович\")      | 985851 |\n",
      "|    (\"Липунова Галина Ринатовна\")-[:event@0{event_id: 985851}]->(\"Ноткина Альбина Михаиловна\")    | 985851 |\n",
      "+--------------------------------------------------------------------------------------------------+--------+\n"
     ]
    }
   ],
   "source": [
    "res = result_to_df(session.execute('MATCH ()-[e:event]-() \\\n",
    "                            WITH e.event_id as eid, count(e.event_id)/2 as cnt \\\n",
    "                            WHERE cnt >= 2 return eid, cnt \\\n",
    "                            ORDER BY cnt DESC'))\n",
    "\n",
    "rep = res.iloc[:,0].to_list()\n",
    "\n",
    "print_resp(session.execute(f'MATCH ()-[e:event]-() \\\n",
    "                            WHERE e.event_id in {rep} \\\n",
    "                            RETURN distinct e as event, e.event_id as id \\\n",
    "                            ORDER BY id'))"
   ]
  },
  {
   "attachments": {},
   "cell_type": "markdown",
   "metadata": {},
   "source": [
    "Как видно, в основном участники образуют в основном группы по два, хотя иногда бывают и более крупные объединения.\n",
    "![Alt text](src/Image%20(8).png)\n",
    "\n",
    "Попробуем вывести все сообщества, где более одной связи."
   ]
  },
  {
   "cell_type": "code",
   "execution_count": 15,
   "metadata": {},
   "outputs": [
    {
     "name": "stdout",
     "output_type": "stream",
     "text": [
      "{'Яцкой Роберт Ильдарович', 'Поскребышев Яков Дмитриевич', 'Недовесков Владимир Иванович', 'Подолян Владислав Денисович', 'Майлина Гульнара Ивановна', 'Каехтин Ильдар Эдуардович'}\n",
      "Участников 6\n",
      "{'Сарсадских Алена Геннадьевна', 'Думлер Людмила Вячеславовна', 'Музалевская Ангелина Федоровна', 'Чикирева Мария Романовна', 'Аксанова Кристина Григорьевна', 'Шальнова Ольга Владимировна', 'Чечин Рамиль Константинович', 'Ковшов Глеб Германович', 'Тяжлов Ринат Владиславович', 'Домогаров Антон Максимович', 'Арбачаков Филипп Андреевич', 'Толкунова Валентина Маратовна', 'Андриевская Марина Ринатовна', 'Щенников Дмитрий Григорьевич', 'Абаренов Ильдар Робертович', 'Бодрякова Евгения Яновна', 'Ящукова Любовь Ефимовна', 'Яникеев Вячеслав Русланович', 'Бобрецова Светлана Артемовна', 'Вохменцев Владимир Владиславович', 'Алипичев Евгений Тимурович', 'Жубанов Анатолий Иванович', 'Урманцева Евгения Олеговна', 'Соломеина Кристина Георгиевна', 'Бордачев Никита Васильевич', 'Камилов Дамир Павлович', 'Нетужилова Елена Викторовна', 'Ахромеева Алина Ивановна', 'Сайденов Иван Валерьевич', 'Непомнящих Илья Дамирович', 'Бугаенкова Карина Аркадьевна', 'Ларищев Илья Александрович', 'Близняков Иван Артемович', 'Бекрева Виктория Яковлевна', 'Соловейчиков Олег Павлович', 'Камчадалов Артем Ярославович', 'Старухин Дамир Маратович', 'Борголов Евгений Маратович', 'Шовковская Наталья Николаевна', 'Преображенская Кира Альбертовна', 'Селин Федор Ильич', 'Салагаев Иван Рамилевич', 'Кутасов Константин Сергеевич', 'Расулев Никита Петрович', 'Гужов Глеб Данилович', 'Айдамирова Карина Антоновна', 'Ошуров Павел Ильдарович', 'Акодес Ефим Анатольевич', 'Щурупова Алла Филипповна', 'Белогорлов Дамир Кириллович', 'Дудыкина Мария Романовна'}\n",
      "Участников 51\n",
      "{'Тиктинская Галина Григорьевна', 'Питенин Ярослав Радикович', 'Зимнухова Карина Даниловна', 'Анихнова Тамара Руслановна', 'Кривовязова Ксения Ярославовна', 'Карсанов Дамир Тимурович', 'Леканова Тамара Ивановна', 'Диомидов Игорь Ильдарович', 'Ловягин Дмитрий Денисович', 'Радионова Тамара Ярославовна', 'Бугайчук Роман Эдуардович', 'Старобинская Яна Альбертовна', 'Ланчикова Альбина Валерьевна'}\n",
      "Участников 13\n",
      "{'Нагайцева Анжелика Яновна', 'Даниленко Владимир Семенович', 'Ивашев Вячеслав Игоревич', 'Рыскина Эльмира Ивановна', 'Батиевская Ангелина Романовна', 'Шолохов Игорь Робертович', 'Торгунаков Роман Кириллович', 'Троекуров Глеб Ефимович', 'Дорожкин Анатолий Егорович', 'Двигубская Валентина Геннадьевна', 'Мараховская Дарья Романовна', 'Пафомова Кира Вадимовна', 'Ляуданский Валентин Владиславович'}\n",
      "Участников 13\n",
      "{'Фефилов Дмитрий Янович', 'Габов Борис Марселевич', 'Купоров Григорий Станиславович', 'Головушина Алла Филипповна', 'Акрамова Людмила Альбертовна', 'Сергулин Егор Глебович', 'Сусайкин Владимир Ярославович', 'Алябышева Диана Ярославовна', 'Казак Николай Русланович', 'Челомбитько Тимофей Антонович', 'Жандарев Виктор Глебович', 'Павлючиков Максим Филиппович', 'Башнина Антонина Глебовна', 'Недоквасов Владислав Константинович', 'Аргентовская Евгения Евгеньевна'}\n",
      "Участников 15\n",
      "{'Помыкалова Тамара Федоровна', 'Глазков Артур Петрович', 'Пчелинцев Артур Глебович', 'Медведева Дарья Алексеевна', 'Кондратьев Борис Германович', 'Дуброва Анжелика Григорьевна', 'Безгачий Денис Ефимович'}\n",
      "Участников 7\n"
     ]
    }
   ],
   "source": [
    "from nebula3.data.DataObject import Relationship, ValueWrapper\n",
    "\n",
    "# Введём список сложных сообществ\n",
    "clubs = []\n",
    "# Выбираем списки всех путей длинее 2х ребёр, сгрупированные по начальным вершинам\n",
    "res = result_to_df(session.execute('MATCH (v)-[e:event*2..]-() RETURN id(v), collect(e)'))\n",
    "rows = res.shape[0]\n",
    "# Проходимся по группам\n",
    "for row in range(rows):\n",
    "    club = set()\n",
    "    # По путям в группах\n",
    "    for path in res.iloc[row,1]:\n",
    "        for edge in path:\n",
    "            # Достаём начало и конец и добавляем в текущее сообщество из тех,\n",
    "            # кто в принципе есть в путях от этой вершины\n",
    "            start = ValueWrapper.as_string(Relationship.start_vertex_id(edge))\n",
    "            end = ValueWrapper.as_string(Relationship.end_vertex_id(edge))\n",
    "            club.add(start)\n",
    "            club.add(end)\n",
    "    # Дополним имеющееся в списке сообщество, если есть пересечения с текущим\n",
    "    flag = True\n",
    "    for c in clubs:\n",
    "        for p in club:\n",
    "            if p in c:\n",
    "                c.union(club)\n",
    "                flag = False\n",
    "                break\n",
    "        if not flag:\n",
    "            break\n",
    "    # Или добавим целиком если пересечений нет\n",
    "    if flag:\n",
    "        clubs.append(club)\n",
    "\n",
    "for c in clubs:\n",
    "    print(c)\n",
    "    print(\"Участников\", len(c))"
   ]
  },
  {
   "attachments": {},
   "cell_type": "markdown",
   "metadata": {},
   "source": [
    "![Alt text](src/Image%20(9).png)\n",
    "\n",
    "Как видно, имееются несколько типов сложных сообществ: три собранных вокруг одного человека, одно в виде кольца и два с более сложной структурой из двух объединённых подсообществ."
   ]
  },
  {
   "attachments": {},
   "cell_type": "markdown",
   "metadata": {},
   "source": [
    "Посмотрим кто из учасников имеет больше всего связей."
   ]
  },
  {
   "cell_type": "code",
   "execution_count": 16,
   "metadata": {},
   "outputs": [
    {
     "name": "stdout",
     "output_type": "stream",
     "text": [
      "+-----------------------------------+--------+\n",
      "|               person              | events |\n",
      "+-----------------------------------+--------+\n",
      "|      Ахромеева Алина Ивановна     |   50   |\n",
      "|     Башнина Антонина Глебовна     |   14   |\n",
      "|     Медведева Дарья Алексеевна    |   6    |\n",
      "|     Диомидов Игорь Ильдарович     |   5    |\n",
      "|     Зимнухова Карина Даниловна    |   5    |\n",
      "|      Шолохов Игорь Робертович     |   4    |\n",
      "|  Двигубская Валентина Геннадьевна |   3    |\n",
      "|      Пафомова Кира Вадимовна      |   3    |\n",
      "|    Недовесков Владимир Иванович   |   2    |\n",
      "|     Каехтин Ильдар Эдуардович     |   2    |\n",
      "|      Троекуров Глеб Ефимович      |   2    |\n",
      "|    Даниленко Владимир Семенович   |   2    |\n",
      "|    Радионова Тамара Ярославовна   |   2    |\n",
      "|    Подолян Владислав Денисович    |   2    |\n",
      "|    Поскребышев Яков Дмитриевич    |   2    |\n",
      "|     Дорожкин Анатолий Егорович    |   2    |\n",
      "|    Мараховская Дарья Романовна    |   2    |\n",
      "|   Батиевская Ангелина Романовна   |   2    |\n",
      "|     Бугайчук Роман Эдуардович     |   2    |\n",
      "|      Ивашев Вячеслав Игоревич     |   2    |\n",
      "|    Торгунаков Роман Кириллович    |   2    |\n",
      "|     Майлина Гульнара Ивановна     |   2    |\n",
      "| Ляуданский Валентин Владиславович |   2    |\n",
      "|     Нагайцева Анжелика Яновна     |   2    |\n",
      "|      Рыскина Эльмира Ивановна     |   2    |\n",
      "|      Яцкой Роберт Ильдарович      |   2    |\n",
      "|     Анихнова Тамара Руслановна    |   2    |\n",
      "|     Божук Виталий Вячеславович    |   1    |\n",
      "|    Нурбердыев Степан Эдуардович   |   1    |\n",
      "|    Зыкунов Роман Станиславович    |   1    |\n",
      "+-----------------------------------+--------+\n"
     ]
    }
   ],
   "source": [
    "print_resp(session.execute('MATCH (p:person)-[e:event]-() \\\n",
    "                           RETURN p.person.name as person, count(e) as events \\\n",
    "                           ORDER BY events DESC LIMIT 30;'))"
   ]
  },
  {
   "attachments": {},
   "cell_type": "markdown",
   "metadata": {},
   "source": [
    "Очевидно первые три участника с наибольшим количеством связей являются центрами своих сообществ. \n",
    "![Alt text](src/Image%20(12).png)\n",
    "\n",
    "Попробуем вывести для них связи где они являются первым участником события и где вторым."
   ]
  },
  {
   "cell_type": "code",
   "execution_count": 17,
   "metadata": {},
   "outputs": [
    {
     "name": "stdout",
     "output_type": "stream",
     "text": [
      "+----------------------------+-------+\n",
      "|           person           | first |\n",
      "+----------------------------+-------+\n",
      "|  Ахромеева Алина Ивановна  |   49  |\n",
      "| Медведева Дарья Алексеевна |   1   |\n",
      "| Башнина Антонина Глебовна  |   14  |\n",
      "+----------------------------+-------+\n",
      "+----------------------------+--------+\n",
      "|           person           | second |\n",
      "+----------------------------+--------+\n",
      "|  Ахромеева Алина Ивановна  |   1    |\n",
      "| Медведева Дарья Алексеевна |   5    |\n",
      "+----------------------------+--------+\n"
     ]
    }
   ],
   "source": [
    "print_resp(session.execute('MATCH (p)-[e:event]->() \\\n",
    "                            WHERE id(p) in [\"Ахромеева Алина Ивановна\", \"Башнина Антонина Глебовна\", \"Медведева Дарья Алексеевна\"] \\\n",
    "                            RETURN id(p) as person, count(e) as first;'))\n",
    "print_resp(session.execute('MATCH (p)<-[e:event]-() \\\n",
    "                            WHERE id(p) in [\"Ахромеева Алина Ивановна\", \"Башнина Антонина Глебовна\", \"Медведева Дарья Алексеевна\"] \\\n",
    "                            RETURN id(p) as person, count(e) as second;'))"
   ]
  },
  {
   "attachments": {},
   "cell_type": "markdown",
   "metadata": {},
   "source": [
    "Тут можно видеть некоторую странность, Ахромеева Алина Ивановна является вторым участником события только в одном случае, Медведева Дарья Алексеевна первым только в одном случае. Посмотрим что это за события."
   ]
  },
  {
   "cell_type": "code",
   "execution_count": 18,
   "metadata": {},
   "outputs": [
    {
     "name": "stdout",
     "output_type": "stream",
     "text": [
      "+-----------------------------------------------------------------------------------------+\n",
      "|                                      strange_event                                      |\n",
      "+-----------------------------------------------------------------------------------------+\n",
      "|  (\"Ошуров Павел Ильдарович\")-[:event@0{event_id: 800116}]->(\"Ахромеева Алина Ивановна\") |\n",
      "| (\"Медведева Дарья Алексеевна\")-[:event@0{event_id: 173973}]->(\"Глазков Артур Петрович\") |\n",
      "+-----------------------------------------------------------------------------------------+\n"
     ]
    }
   ],
   "source": [
    "print_resp(session.execute('MATCH (p2:person {name:\"Ахромеева Алина Ивановна\"})<-[e2:event]-() \\\n",
    "                            MATCH (p3:person {name:\"Медведева Дарья Алексеевна\"})-[e3:event]->() \\\n",
    "                            UNWIND [e2, e3] as e \\\n",
    "                            RETURN e as strange_event'))"
   ]
  },
  {
   "attachments": {},
   "cell_type": "markdown",
   "metadata": {},
   "source": [
    "Теперь выведем более сложные сообщества."
   ]
  },
  {
   "cell_type": "code",
   "execution_count": 20,
   "metadata": {},
   "outputs": [
    {
     "name": "stdout",
     "output_type": "stream",
     "text": [
      "+-------------------------------------------------------------------------------------------------------------------------------------------------------------------------------------------------------------------------------------------------------------------------------------------------------+-----+\n",
      "|                                                                                                                                                 event                                                                                                                                                 | len |\n",
      "+-------------------------------------------------------------------------------------------------------------------------------------------------------------------------------------------------------------------------------------------------------------------------------------------------------+-----+\n",
      "|              [(\"Нагайцева Анжелика Яновна\")-[:event@0{event_id: 410960}]->(\"Троекуров Глеб Ефимович\"), (\"Шолохов Игорь Робертович\")-[:event@0{event_id: 875321}]->(\"Нагайцева Анжелика Яновна\"), (\"Пафомова Кира Вадимовна\")-[:event@0{event_id: 829652}]->(\"Шолохов Игорь Робертович\")]              |  3  |\n",
      "|   [(\"Торгунаков Роман Кириллович\")-[:event@0{event_id: 750824}]->(\"Шолохов Игорь Робертович\"), (\"Ляуданский Валентин Владиславович\")-[:event@0{event_id: 913605}]->(\"Торгунаков Роман Кириллович\"), (\"Пафомова Кира Вадимовна\")-[:event@0{event_id: 99439}]->(\"Ляуданский Валентин Владиславович\")]   |  3  |\n",
      "|     [(\"Торгунаков Роман Кириллович\")-[:event@0{event_id: 750824}]->(\"Шолохов Игорь Робертович\"), (\"Шолохов Игорь Робертович\")-[:event@0{event_id: 218462}]->(\"Двигубская Валентина Геннадьевна\"), (\"Двигубская Валентина Геннадьевна\")-[:event@0{event_id: 355320}]->(\"Ивашев Вячеслав Игоревич\")]    |  3  |\n",
      "|       [(\"Бугайчук Роман Эдуардович\")-[:event@0{event_id: 972769}]->(\"Анихнова Тамара Руслановна\"), (\"Анихнова Тамара Руслановна\")-[:event@0{event_id: 348716}]->(\"Зимнухова Карина Даниловна\"), (\"Зимнухова Карина Даниловна\")-[:event@0{event_id: 241336}]->(\"Кривовязова Ксения Ярославовна\")]      |  3  |\n",
      "|     [(\"Дорожкин Анатолий Егорович\")-[:event@0{event_id: 798803}]->(\"Двигубская Валентина Геннадьевна\"), (\"Шолохов Игорь Робертович\")-[:event@0{event_id: 218462}]->(\"Двигубская Валентина Геннадьевна\"), (\"Шолохов Игорь Робертович\")-[:event@0{event_id: 875321}]->(\"Нагайцева Анжелика Яновна\")]    |  3  |\n",
      "|        [(\"Даниленко Владимир Семенович\")-[:event@0{event_id: 294139}]->(\"Батиевская Ангелина Романовна\"), (\"Рыскина Эльмира Ивановна\")-[:event@0{event_id: 912479}]->(\"Даниленко Владимир Семенович\"), (\"Ивашев Вячеслав Игоревич\")-[:event@0{event_id: 389500}]->(\"Рыскина Эльмира Ивановна\")]       |  3  |\n",
      "|       [(\"Двигубская Валентина Геннадьевна\")-[:event@0{event_id: 355320}]->(\"Ивашев Вячеслав Игоревич\"), (\"Шолохов Игорь Робертович\")-[:event@0{event_id: 218462}]->(\"Двигубская Валентина Геннадьевна\"), (\"Пафомова Кира Вадимовна\")-[:event@0{event_id: 829652}]->(\"Шолохов Игорь Робертович\")]      |  3  |\n",
      "|       [(\"Пафомова Кира Вадимовна\")-[:event@0{event_id: 99439}]->(\"Ляуданский Валентин Владиславович\"), (\"Пафомова Кира Вадимовна\")-[:event@0{event_id: 829652}]->(\"Шолохов Игорь Робертович\"), (\"Шолохов Игорь Робертович\")-[:event@0{event_id: 218462}]->(\"Двигубская Валентина Геннадьевна\")]       |  3  |\n",
      "|             [(\"Мараховская Дарья Романовна\")-[:event@0{event_id: 958318}]->(\"Пафомова Кира Вадимовна\"), (\"Пафомова Кира Вадимовна\")-[:event@0{event_id: 829652}]->(\"Шолохов Игорь Робертович\"), (\"Шолохов Игорь Робертович\")-[:event@0{event_id: 875321}]->(\"Нагайцева Анжелика Яновна\")]             |  3  |\n",
      "|       [(\"Пафомова Кира Вадимовна\")-[:event@0{event_id: 829652}]->(\"Шолохов Игорь Робертович\"), (\"Шолохов Игорь Робертович\")-[:event@0{event_id: 218462}]->(\"Двигубская Валентина Геннадьевна\"), (\"Двигубская Валентина Геннадьевна\")-[:event@0{event_id: 355320}]->(\"Ивашев Вячеслав Игоревич\")]      |  3  |\n",
      "|      [(\"Поскребышев Яков Дмитриевич\")-[:event@0{event_id: 815533}]->(\"Майлина Гульнара Ивановна\"), (\"Подолян Владислав Денисович\")-[:event@0{event_id: 799632}]->(\"Поскребышев Яков Дмитриевич\"), (\"Недовесков Владимир Иванович\")-[:event@0{event_id: 195222}]->(\"Подолян Владислав Денисович\")]     |  3  |\n",
      "|            [(\"Мараховская Дарья Романовна\")-[:event@0{event_id: 958318}]->(\"Пафомова Кира Вадимовна\"), (\"Троекуров Глеб Ефимович\")-[:event@0{event_id: 732922}]->(\"Мараховская Дарья Романовна\"), (\"Нагайцева Анжелика Яновна\")-[:event@0{event_id: 410960}]->(\"Троекуров Глеб Ефимович\")]            |  3  |\n",
      "|        [(\"Радионова Тамара Ярославовна\")-[:event@0{event_id: 590800}]->(\"Бугайчук Роман Эдуардович\"), (\"Бугайчук Роман Эдуардович\")-[:event@0{event_id: 972769}]->(\"Анихнова Тамара Руслановна\"), (\"Анихнова Тамара Руслановна\")-[:event@0{event_id: 348716}]->(\"Зимнухова Карина Даниловна\")]        |  3  |\n",
      "|       [(\"Ляуданский Валентин Владиславович\")-[:event@0{event_id: 913605}]->(\"Торгунаков Роман Кириллович\"), (\"Торгунаков Роман Кириллович\")-[:event@0{event_id: 750824}]->(\"Шолохов Игорь Робертович\"), (\"Пафомова Кира Вадимовна\")-[:event@0{event_id: 829652}]->(\"Шолохов Игорь Робертович\")]       |  3  |\n",
      "|          [(\"Мараховская Дарья Романовна\")-[:event@0{event_id: 958318}]->(\"Пафомова Кира Вадимовна\"), (\"Пафомова Кира Вадимовна\")-[:event@0{event_id: 829652}]->(\"Шолохов Игорь Робертович\"), (\"Шолохов Игорь Робертович\")-[:event@0{event_id: 218462}]->(\"Двигубская Валентина Геннадьевна\")]         |  3  |\n",
      "|      [(\"Дорожкин Анатолий Егорович\")-[:event@0{event_id: 798803}]->(\"Двигубская Валентина Геннадьевна\"), (\"Шолохов Игорь Робертович\")-[:event@0{event_id: 218462}]->(\"Двигубская Валентина Геннадьевна\"), (\"Пафомова Кира Вадимовна\")-[:event@0{event_id: 829652}]->(\"Шолохов Игорь Робертович\")]     |  3  |\n",
      "|  [(\"Батиевская Ангелина Романовна\")-[:event@0{event_id: 667986}]->(\"Дорожкин Анатолий Егорович\"), (\"Дорожкин Анатолий Егорович\")-[:event@0{event_id: 798803}]->(\"Двигубская Валентина Геннадьевна\"), (\"Двигубская Валентина Геннадьевна\")-[:event@0{event_id: 355320}]->(\"Ивашев Вячеслав Игоревич\")] |  3  |\n",
      "|            [(\"Нагайцева Анжелика Яновна\")-[:event@0{event_id: 410960}]->(\"Троекуров Глеб Ефимович\"), (\"Троекуров Глеб Ефимович\")-[:event@0{event_id: 732922}]->(\"Мараховская Дарья Романовна\"), (\"Мараховская Дарья Романовна\")-[:event@0{event_id: 958318}]->(\"Пафомова Кира Вадимовна\")]            |  3  |\n",
      "|   [(\"Ляуданский Валентин Владиславович\")-[:event@0{event_id: 913605}]->(\"Торгунаков Роман Кириллович\"), (\"Торгунаков Роман Кириллович\")-[:event@0{event_id: 750824}]->(\"Шолохов Игорь Робертович\"), (\"Шолохов Игорь Робертович\")-[:event@0{event_id: 218462}]->(\"Двигубская Валентина Геннадьевна\")]  |  3  |\n",
      "|      [(\"Ляуданский Валентин Владиславович\")-[:event@0{event_id: 913605}]->(\"Торгунаков Роман Кириллович\"), (\"Торгунаков Роман Кириллович\")-[:event@0{event_id: 750824}]->(\"Шолохов Игорь Робертович\"), (\"Шолохов Игорь Робертович\")-[:event@0{event_id: 875321}]->(\"Нагайцева Анжелика Яновна\")]      |  3  |\n",
      "|      [(\"Шолохов Игорь Робертович\")-[:event@0{event_id: 875321}]->(\"Нагайцева Анжелика Яновна\"), (\"Шолохов Игорь Робертович\")-[:event@0{event_id: 218462}]->(\"Двигубская Валентина Геннадьевна\"), (\"Двигубская Валентина Геннадьевна\")-[:event@0{event_id: 355320}]->(\"Ивашев Вячеслав Игоревич\")]     |  3  |\n",
      "|           [(\"Пафомова Кира Вадимовна\")-[:event@0{event_id: 99439}]->(\"Ляуданский Валентин Владиславович\"), (\"Пафомова Кира Вадимовна\")-[:event@0{event_id: 829652}]->(\"Шолохов Игорь Робертович\"), (\"Шолохов Игорь Робертович\")-[:event@0{event_id: 875321}]->(\"Нагайцева Анжелика Яновна\")]          |  3  |\n",
      "|        [(\"Рыскина Эльмира Ивановна\")-[:event@0{event_id: 912479}]->(\"Даниленко Владимир Семенович\"), (\"Ивашев Вячеслав Игоревич\")-[:event@0{event_id: 389500}]->(\"Рыскина Эльмира Ивановна\"), (\"Двигубская Валентина Геннадьевна\")-[:event@0{event_id: 355320}]->(\"Ивашев Вячеслав Игоревич\")]        |  3  |\n",
      "|      [(\"Двигубская Валентина Геннадьевна\")-[:event@0{event_id: 355320}]->(\"Ивашев Вячеслав Игоревич\"), (\"Шолохов Игорь Робертович\")-[:event@0{event_id: 218462}]->(\"Двигубская Валентина Геннадьевна\"), (\"Шолохов Игорь Робертович\")-[:event@0{event_id: 875321}]->(\"Нагайцева Анжелика Яновна\")]     |  3  |\n",
      "|       [(\"Радионова Тамара Ярославовна\")-[:event@0{event_id: 590800}]->(\"Бугайчук Роман Эдуардович\"), (\"Диомидов Игорь Ильдарович\")-[:event@0{event_id: 608245}]->(\"Радионова Тамара Ярославовна\"), (\"Диомидов Игорь Ильдарович\")-[:event@0{event_id: 361353}]->(\"Старобинская Яна Альбертовна\")]      |  3  |\n",
      "|        [(\"Бугайчук Роман Эдуардович\")-[:event@0{event_id: 972769}]->(\"Анихнова Тамара Руслановна\"), (\"Анихнова Тамара Руслановна\")-[:event@0{event_id: 348716}]->(\"Зимнухова Карина Даниловна\"), (\"Зимнухова Карина Даниловна\")-[:event@0{event_id: 504411}]->(\"Ланчикова Альбина Валерьевна\")]       |  3  |\n",
      "|          [(\"Нагайцева Анжелика Яновна\")-[:event@0{event_id: 410960}]->(\"Троекуров Глеб Ефимович\"), (\"Шолохов Игорь Робертович\")-[:event@0{event_id: 875321}]->(\"Нагайцева Анжелика Яновна\"), (\"Шолохов Игорь Робертович\")-[:event@0{event_id: 218462}]->(\"Двигубская Валентина Геннадьевна\")]         |  3  |\n",
      "| [(\"Даниленко Владимир Семенович\")-[:event@0{event_id: 294139}]->(\"Батиевская Ангелина Романовна\"), (\"Батиевская Ангелина Романовна\")-[:event@0{event_id: 667986}]->(\"Дорожкин Анатолий Егорович\"), (\"Дорожкин Анатолий Егорович\")-[:event@0{event_id: 798803}]->(\"Двигубская Валентина Геннадьевна\")] |  3  |\n",
      "|            [(\"Майлина Гульнара Ивановна\")-[:event@0{event_id: 328508}]->(\"Каехтин Ильдар Эдуардович\"), (\"Каехтин Ильдар Эдуардович\")-[:event@0{event_id: 745893}]->(\"Яцкой Роберт Ильдарович\"), (\"Яцкой Роберт Ильдарович\")-[:event@0{event_id: 684804}]->(\"Недовесков Владимир Иванович\")]           |  3  |\n",
      "|        [(\"Подолян Владислав Денисович\")-[:event@0{event_id: 799632}]->(\"Поскребышев Яков Дмитриевич\"), (\"Поскребышев Яков Дмитриевич\")-[:event@0{event_id: 815533}]->(\"Майлина Гульнара Ивановна\"), (\"Майлина Гульнара Ивановна\")-[:event@0{event_id: 328508}]->(\"Каехтин Ильдар Эдуардович\")]        |  3  |\n",
      "+-------------------------------------------------------------------------------------------------------------------------------------------------------------------------------------------------------------------------------------------------------------------------------------------------------+-----+\n"
     ]
    }
   ],
   "source": [
    "print_resp(session.execute(\n",
    "    'MATCH ()-[e:event*3..]-() \\\n",
    "    RETURN distinct e AS event, size(e) as len \\\n",
    "    ORDER BY len LIMIT 30'))"
   ]
  },
  {
   "attachments": {},
   "cell_type": "markdown",
   "metadata": {},
   "source": [
    "![Alt text](src/Image%20(10).png)"
   ]
  },
  {
   "attachments": {},
   "cell_type": "markdown",
   "metadata": {},
   "source": [
    "Закроем сессию и остановим контейнеры."
   ]
  },
  {
   "cell_type": "code",
   "execution_count": 21,
   "metadata": {},
   "outputs": [
    {
     "name": "stderr",
     "output_type": "stream",
     "text": [
      "Container docker-web-1  Stopping\n",
      "Container docker-web-1  Stopping\n",
      "Container docker-web-1  Stopped\n",
      "Container docker-web-1  Removing\n",
      "Container docker-web-1  Removed\n",
      "Network docker_nebula-web  Removing\n",
      "Network docker_nebula-web  Removed\n",
      "Container nebula-docker-compose-graphd2-1  Stopping\n",
      "Container nebula-docker-compose-graphd2-1  Stopping\n",
      "Container nebula-docker-compose-console-1  Stopping\n",
      "Container nebula-docker-compose-console-1  Stopping\n",
      "Container nebula-docker-compose-graphd1-1  Stopping\n",
      "Container nebula-docker-compose-graphd1-1  Stopping\n",
      "Container nebula-docker-compose-graphd1-1  Stopped\n",
      "Container nebula-docker-compose-graphd1-1  Removing\n",
      "Container nebula-docker-compose-graphd1-1  Removed\n",
      "Container nebula-docker-compose-graphd2-1  Stopped\n",
      "Container nebula-docker-compose-graphd2-1  Removing\n",
      "Container nebula-docker-compose-graphd2-1  Removed\n",
      "Container nebula-docker-compose-console-1  Stopped\n",
      "Container nebula-docker-compose-console-1  Removing\n",
      "Container nebula-docker-compose-console-1  Removed\n",
      "Container nebula-docker-compose-graphd-1  Stopping\n",
      "Container nebula-docker-compose-graphd-1  Stopping\n",
      "Container nebula-docker-compose-graphd-1  Stopped\n",
      "Container nebula-docker-compose-graphd-1  Removing\n",
      "Container nebula-docker-compose-graphd-1  Removed\n",
      "Container nebula-docker-compose-storaged1-1  Stopping\n",
      "Container nebula-docker-compose-storaged2-1  Stopping\n",
      "Container nebula-docker-compose-storaged2-1  Stopping\n",
      "Container nebula-docker-compose-storaged0-1  Stopping\n",
      "Container nebula-docker-compose-storaged0-1  Stopping\n",
      "Container nebula-docker-compose-storaged1-1  Stopping\n",
      "Container nebula-docker-compose-storaged0-1  Stopped\n",
      "Container nebula-docker-compose-storaged0-1  Removing\n",
      "Container nebula-docker-compose-storaged0-1  Removed\n",
      "Container nebula-docker-compose-storaged1-1  Stopped\n",
      "Container nebula-docker-compose-storaged1-1  Removing\n",
      "Container nebula-docker-compose-storaged1-1  Removed\n",
      "Container nebula-docker-compose-storaged2-1  Stopped\n",
      "Container nebula-docker-compose-storaged2-1  Removing\n",
      "Container nebula-docker-compose-storaged2-1  Removed\n",
      "Container nebula-docker-compose-metad2-1  Stopping\n",
      "Container nebula-docker-compose-metad1-1  Stopping\n",
      "Container nebula-docker-compose-metad1-1  Stopping\n",
      "Container nebula-docker-compose-metad2-1  Stopping\n",
      "Container nebula-docker-compose-metad0-1  Stopping\n",
      "Container nebula-docker-compose-metad0-1  Stopping\n",
      "Container nebula-docker-compose-metad2-1  Stopped\n",
      "Container nebula-docker-compose-metad2-1  Removing\n",
      "Container nebula-docker-compose-metad2-1  Removed\n",
      "Container nebula-docker-compose-metad0-1  Stopped\n",
      "Container nebula-docker-compose-metad0-1  Removing\n",
      "Container nebula-docker-compose-metad0-1  Removed\n",
      "Container nebula-docker-compose-metad1-1  Stopped\n",
      "Container nebula-docker-compose-metad1-1  Removing\n",
      "Container nebula-docker-compose-metad1-1  Removed\n",
      "Network nebula-docker-compose_nebula-net  Removing\n",
      "Network nebula-docker-compose_nebula-net  Removed\n"
     ]
    }
   ],
   "source": [
    "# release session\n",
    "session.release()\n",
    "# close the pool\n",
    "connection_pool.close()\n",
    "!docker-compose --project-directory nebula-graph-studio/deployment/docker down\n",
    "!docker-compose --project-directory nebula-docker-compose down"
   ]
  }
 ],
 "metadata": {
  "kernelspec": {
   "display_name": "venv",
   "language": "python",
   "name": "python3"
  },
  "language_info": {
   "codemirror_mode": {
    "name": "ipython",
    "version": 3
   },
   "file_extension": ".py",
   "mimetype": "text/x-python",
   "name": "python",
   "nbconvert_exporter": "python",
   "pygments_lexer": "ipython3",
   "version": "3.8.1"
  },
  "orig_nbformat": 4
 },
 "nbformat": 4,
 "nbformat_minor": 2
}
